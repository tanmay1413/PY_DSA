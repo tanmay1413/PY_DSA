{
 "cells": [
  {
   "cell_type": "markdown",
   "id": "269644a0",
   "metadata": {},
   "source": [
    "## Day 4 – Lists & Tuples (Deep Dive + Practice)"
   ]
  },
  {
   "cell_type": "markdown",
   "id": "d4c93acc",
   "metadata": {},
   "source": [
    "# 1) List"
   ]
  },
  {
   "cell_type": "markdown",
   "id": "6469a065",
   "metadata": {},
   "source": [
    "List is a store a multiple items in single variable.\n",
    "\n",
    "List are created using [ ].\n",
    "\n",
    "List is a ordered.\n",
    "\n",
    "List is mutable.\n",
    "\n",
    "List is a Hetrogenious."
   ]
  },
  {
   "cell_type": "markdown",
   "id": "75ff6ae6",
   "metadata": {},
   "source": [
    "1. Create a list "
   ]
  },
  {
   "cell_type": "code",
   "execution_count": 6,
   "id": "cac85093",
   "metadata": {},
   "outputs": [
    {
     "name": "stdout",
     "output_type": "stream",
     "text": [
      "['Ajay', 'Vijay', 'Shubham']\n",
      "['Python', 'Java', 'C++']\n"
     ]
    }
   ],
   "source": [
    "# using []\n",
    "students = [\"Ajay\", \"Vijay\",\"Shubham\"]\n",
    "\n",
    "print(students)\n",
    "\n",
    "# using list\n",
    "class_name = (\"Python\", \"Java\",\"C++\")\n",
    "course_list = list(class_name)\n",
    "print(course_list)"
   ]
  },
  {
   "cell_type": "markdown",
   "id": "8dbec9d9",
   "metadata": {},
   "source": [
    "2. Indexing & slicing "
   ]
  },
  {
   "cell_type": "code",
   "execution_count": null,
   "id": "3d596975",
   "metadata": {},
   "outputs": [
    {
     "name": "stdout",
     "output_type": "stream",
     "text": [
      "Vijay\n",
      "['Vijay', 'Shubham']\n"
     ]
    }
   ],
   "source": [
    "# Indexing \n",
    "students = [\"Ajay\", \"Vijay\",\"Shubham\",\"Nikhil\"]\n",
    "print(students[1])\n",
    "\n",
    "# Slicing\n",
    "print(students[1::])"
   ]
  },
  {
   "cell_type": "markdown",
   "id": "ec3693bc",
   "metadata": {},
   "source": [
    "3. Adding element"
   ]
  },
  {
   "cell_type": "code",
   "execution_count": 12,
   "id": "c2b606ee",
   "metadata": {},
   "outputs": [
    {
     "name": "stdout",
     "output_type": "stream",
     "text": [
      "['Ajay', 'Vijay', 'Shubham', 'Sahil']\n",
      "['Ajay', 'Vikas', 'Vijay', 'Shubham', 'Sahil']\n",
      "['Ajay', 'Vikas', 'Vijay', 'Shubham', 'Sahil', 'Raj', 'Sham', 'Arjun']\n"
     ]
    }
   ],
   "source": [
    "# 1) Append --> append() add element at the end of the list \n",
    "\n",
    "students = [\"Ajay\", \"Vijay\",\"Shubham\"]\n",
    "students.append(\"Sahil\")\n",
    "print(students)\n",
    "\n",
    "\n",
    "# 2) Insert --> insert(i,v)\n",
    "students.insert(1,\"Vikas\")\n",
    "print(students)\n",
    "\n",
    "# 3) Extends --> extends() adds all elements from another iterable (like a list, tuple, set, or even a string ) to the end of the current list. \n",
    "# It dose not create a new list - it modifies the existing one in place.\n",
    "student_2 = [\"Raj\", \"Sham\",\"Arjun\"]\n",
    "students.extend(student_2)\n",
    "print(students)"
   ]
  },
  {
   "cell_type": "markdown",
   "id": "fef95b36",
   "metadata": {},
   "source": [
    "4. Removing elements "
   ]
  },
  {
   "cell_type": "code",
   "execution_count": 20,
   "id": "b2a58603",
   "metadata": {},
   "outputs": [
    {
     "name": "stdout",
     "output_type": "stream",
     "text": [
      "['Ajay', 'Shubham']\n",
      "['Ajay', 'Vijay']\n",
      "[]\n"
     ]
    }
   ],
   "source": [
    "# remove() --> it removes first occurance of list.\n",
    "students = [\"Ajay\", \"Vijay\",\"Shubham\"]\n",
    "students.remove(\"Vijay\")\n",
    "print(students)\n",
    "\n",
    "# pop() --> it will remove last element from lsit\n",
    "students = [\"Ajay\", \"Vijay\",\"Shubham\"]\n",
    "students.pop()\n",
    "print(students)\n",
    "\n",
    "# clear() --> It will clear all the elements from the list.\n",
    "students = [\"Ajay\", \"Vijay\",\"Shubham\"]\n",
    "students.clear()\n",
    "print(students)\n",
    "\n",
    "# del() --> It will delete whole list.\n",
    "students = [\"Ajay\", \"Vijay\",\"Shubham\"]\n",
    "del(students)\n",
    "# print(students)"
   ]
  },
  {
   "cell_type": "markdown",
   "id": "118fa6b1",
   "metadata": {},
   "source": [
    "5. List comprehension "
   ]
  },
  {
   "cell_type": "markdown",
   "id": "b31b805d",
   "metadata": {},
   "source": [
    "It is a short way to create a list by appling an expression to each item in an iterable (like a list , tuple , range , etc ), optionally filtering items with a condition."
   ]
  },
  {
   "cell_type": "code",
   "execution_count": 26,
   "id": "32a3b607",
   "metadata": {},
   "outputs": [
    {
     "name": "stdout",
     "output_type": "stream",
     "text": [
      "[1, 4, 9, 16, 25, 36, 49, 64, 81, 100]\n",
      "[0, 2, 4, 6, 8, 10]\n",
      "['PYTHON', 'JAVA', 'C++', 'GO']\n",
      "[1, 2, 3, 4, 5, 6]\n"
     ]
    }
   ],
   "source": [
    "# syntax\n",
    "\n",
    "# new_list = [ expression for item in iterable if condition]\n",
    "\n",
    "# Example without condition \n",
    "\n",
    "squares = [ x ** 2 for x in range(1,11)]\n",
    "print(squares)\n",
    "\n",
    "# Example with condition \n",
    "\n",
    "# get even numbers from 0 to 10\n",
    "evens = [x for x in range(11) if x % 2 == 0]\n",
    "print(evens)\n",
    "\n",
    "# Example 3 – Transforming items\n",
    "words = ['python', 'java', 'c++', 'go']\n",
    "upper_words = [word.upper() for word in words]\n",
    "print(upper_words)\n",
    "\n",
    "# Example 4 – Nested list comprehension  2D list\n",
    "matrix = [[1,2],\n",
    "          [3,4],\n",
    "          [5,6]]\n",
    "\n",
    "flat = [num for row in matrix for num in row]\n",
    "print(flat)"
   ]
  },
  {
   "cell_type": "code",
   "execution_count": null,
   "id": "f1c3ad64",
   "metadata": {},
   "outputs": [],
   "source": []
  },
  {
   "cell_type": "markdown",
   "id": "88fcc231",
   "metadata": {},
   "source": []
  },
  {
   "cell_type": "code",
   "execution_count": null,
   "id": "62411ebf",
   "metadata": {},
   "outputs": [],
   "source": []
  }
 ],
 "metadata": {
  "kernelspec": {
   "display_name": "Python 3",
   "language": "python",
   "name": "python3"
  },
  "language_info": {
   "codemirror_mode": {
    "name": "ipython",
    "version": 3
   },
   "file_extension": ".py",
   "mimetype": "text/x-python",
   "name": "python",
   "nbconvert_exporter": "python",
   "pygments_lexer": "ipython3",
   "version": "3.13.4"
  }
 },
 "nbformat": 4,
 "nbformat_minor": 5
}
