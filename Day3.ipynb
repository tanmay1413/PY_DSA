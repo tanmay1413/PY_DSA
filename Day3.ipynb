{
 "cells": [
  {
   "cell_type": "markdown",
   "id": "6d5a7f60",
   "metadata": {},
   "source": [
    "## Loops & Comparisons"
   ]
  },
  {
   "cell_type": "markdown",
   "id": "fa5ece74",
   "metadata": {},
   "source": [
    "# for loop & While loop"
   ]
  },
  {
   "cell_type": "markdown",
   "id": "c1b6f10a",
   "metadata": {},
   "source": [
    "1) Take a and print whether it's:\n",
    "\n",
    "    Positive\n",
    "\n",
    "    Negative\n",
    "\n",
    "    Zero"
   ]
  },
  {
   "cell_type": "code",
   "execution_count": 6,
   "id": "7824ea20",
   "metadata": {},
   "outputs": [
    {
     "name": "stdout",
     "output_type": "stream",
     "text": [
      "Result: Positive\n"
     ]
    }
   ],
   "source": [
    "def check_number(num):\n",
    "  if num > 0:\n",
    "    return \"Positive\"\n",
    "  \n",
    "  elif num == 0:\n",
    "    return \"Zero\"\n",
    "\n",
    "  else:\n",
    "    return \"Negative\" \n",
    "\n",
    "\n",
    "\n",
    "number = int(input(\"Enter a number :\"))\n",
    "result = check_number(number)\n",
    "print(\"Result:\",result)"
   ]
  },
  {
   "cell_type": "markdown",
   "id": "175c3c01",
   "metadata": {},
   "source": []
  },
  {
   "cell_type": "markdown",
   "id": "279b684e",
   "metadata": {},
   "source": [
    "2) Print number 1 to 20 using while loop"
   ]
  },
  {
   "cell_type": "code",
   "execution_count": 7,
   "id": "f57f9cb6",
   "metadata": {},
   "outputs": [
    {
     "name": "stdout",
     "output_type": "stream",
     "text": [
      "1\n",
      "2\n",
      "3\n",
      "4\n",
      "5\n",
      "6\n",
      "7\n",
      "8\n",
      "9\n",
      "10\n",
      "11\n",
      "12\n",
      "13\n",
      "14\n",
      "15\n",
      "16\n",
      "17\n",
      "18\n",
      "19\n",
      "20\n"
     ]
    }
   ],
   "source": [
    "num = 1\n",
    "while num <= 20:\n",
    "  print(num)\n",
    "  num += 1"
   ]
  },
  {
   "cell_type": "markdown",
   "id": "35d47d17",
   "metadata": {},
   "source": [
    "3) Count and print how many numbers between 1 and 50 are divisible by 7?"
   ]
  },
  {
   "cell_type": "code",
   "execution_count": 12,
   "id": "d775bd15",
   "metadata": {},
   "outputs": [
    {
     "name": "stdout",
     "output_type": "stream",
     "text": [
      "7 [7, 14, 21, 28, 35, 42, 49]\n"
     ]
    }
   ],
   "source": [
    "count = 0\n",
    "num = []\n",
    "\n",
    "for i in range(1,51):\n",
    "  if i % 7 == 0:\n",
    "    count += 1\n",
    "    num.append(i)\n",
    "\n",
    "print(count, num)"
   ]
  },
  {
   "cell_type": "markdown",
   "id": "4ab25734",
   "metadata": {},
   "source": [
    "4) Pattern : Right-angle triangle using numbers"
   ]
  },
  {
   "cell_type": "code",
   "execution_count": 18,
   "id": "ed361152",
   "metadata": {},
   "outputs": [
    {
     "name": "stdout",
     "output_type": "stream",
     "text": [
      "1\n",
      "12\n",
      "123\n",
      "1234\n"
     ]
    }
   ],
   "source": [
    "for i in range(1,5):\n",
    "  for j in range(1,i+1):\n",
    "    print(j , end=\"\")\n",
    "  print()\n",
    " "
   ]
  },
  {
   "cell_type": "markdown",
   "id": "f7012283",
   "metadata": {},
   "source": []
  },
  {
   "cell_type": "markdown",
   "id": "1704e18d",
   "metadata": {},
   "source": []
  }
 ],
 "metadata": {
  "kernelspec": {
   "display_name": "Python 3",
   "language": "python",
   "name": "python3"
  },
  "language_info": {
   "codemirror_mode": {
    "name": "ipython",
    "version": 3
   },
   "file_extension": ".py",
   "mimetype": "text/x-python",
   "name": "python",
   "nbconvert_exporter": "python",
   "pygments_lexer": "ipython3",
   "version": "3.13.4"
  }
 },
 "nbformat": 4,
 "nbformat_minor": 5
}
