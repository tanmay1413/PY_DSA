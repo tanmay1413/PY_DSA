{
 "cells": [
  {
   "cell_type": "markdown",
   "id": "9437d41d",
   "metadata": {},
   "source": [
    "## Pyhton Revision "
   ]
  },
  {
   "cell_type": "markdown",
   "id": "afbd8460",
   "metadata": {},
   "source": [
    "# Topics"
   ]
  },
  {
   "cell_type": "markdown",
   "id": "12200b32",
   "metadata": {},
   "source": [
    "Variables"
   ]
  },
  {
   "cell_type": "markdown",
   "id": "a854615c",
   "metadata": {},
   "source": [
    "Data Types"
   ]
  },
  {
   "cell_type": "markdown",
   "id": "aa7daf2b",
   "metadata": {},
   "source": [
    "Input / Output"
   ]
  },
  {
   "cell_type": "markdown",
   "id": "3b3dc273",
   "metadata": {},
   "source": [
    "# Questions"
   ]
  },
  {
   "cell_type": "markdown",
   "id": "c8d2d128",
   "metadata": {},
   "source": [
    "1) Swap two numbers without using 3rd variable "
   ]
  },
  {
   "cell_type": "code",
   "execution_count": 1,
   "id": "5dcf3e41",
   "metadata": {},
   "outputs": [
    {
     "name": "stdout",
     "output_type": "stream",
     "text": [
      "a = 20\n",
      "b = 10\n"
     ]
    }
   ],
   "source": [
    "a = 10 \n",
    "b = 20\n",
    "a,b = b,a\n",
    "\n",
    "# This script swaps the values of a and b \n",
    "print(\"a =\", a)\n",
    "print(\"b =\", b) "
   ]
  },
  {
   "cell_type": "markdown",
   "id": "1c3835ed",
   "metadata": {},
   "source": [
    "2) Take two integers as a inputs & print their sum "
   ]
  },
  {
   "cell_type": "code",
   "execution_count": 8,
   "id": "383c7e80",
   "metadata": {},
   "outputs": [
    {
     "name": "stdout",
     "output_type": "stream",
     "text": [
      "The sum of 60 and 30 is: 90\n"
     ]
    }
   ],
   "source": [
    "num_1 = int(input(\"Enter first number:\"))\n",
    "num_2 = int(input(\"Enter second number:\"))\n",
    "\n",
    "# This script takes two integers as input and prints their sum\n",
    "sum_result = num_1 + num_2\n",
    "print(\"The sum of\", num_1, \"and\", num_2, \"is:\", sum_result)\n",
    "\n"
   ]
  },
  {
   "cell_type": "markdown",
   "id": "473c5e9a",
   "metadata": {},
   "source": [
    "3) Check & print the data type of following "
   ]
  },
  {
   "cell_type": "code",
   "execution_count": 9,
   "id": "cc94947f",
   "metadata": {},
   "outputs": [
    {
     "name": "stdout",
     "output_type": "stream",
     "text": [
      "Data type of a: <class 'int'>\n",
      "Data type of a: <class 'float'>\n",
      "Data type of a: <class 'str'>\n",
      "Data type of a: <class 'bool'>\n",
      "Data type of a: <class 'list'>\n"
     ]
    }
   ],
   "source": [
    "a = 10\n",
    "b = 3.14 \n",
    "c = \"Hello\"\n",
    "d = True \n",
    "e = [1, 2, 3]\n",
    "print(\"Data type of a:\", type(a))\n",
    "print(\"Data type of a:\", type(b))\n",
    "print(\"Data type of a:\", type(c))\n",
    "print(\"Data type of a:\", type(d))\n",
    "print(\"Data type of a:\", type(e))"
   ]
  },
  {
   "cell_type": "markdown",
   "id": "a0ef5cfb",
   "metadata": {},
   "source": [
    "## DSA "
   ]
  },
  {
   "cell_type": "markdown",
   "id": "d76b1c4a",
   "metadata": {},
   "source": [
    "# Array\n"
   ]
  },
  {
   "cell_type": "markdown",
   "id": "5e2eaf07",
   "metadata": {},
   "source": [
    "1) What is Array?"
   ]
  },
  {
   "cell_type": "markdown",
   "id": "112a5651",
   "metadata": {},
   "source": [
    "An array is a collection of elements store in fixed sequance. All elements are usually of the same data type and are store in contiguous memory location."
   ]
  },
  {
   "cell_type": "markdown",
   "id": "ebdaf7e4",
   "metadata": {},
   "source": [
    "# In PYTHON Array = List"
   ]
  },
  {
   "cell_type": "markdown",
   "id": "cdeb4369",
   "metadata": {},
   "source": [
    "1) Create a list of fiest 10 natural numbers "
   ]
  },
  {
   "cell_type": "code",
   "execution_count": 10,
   "id": "5690bae1",
   "metadata": {},
   "outputs": [
    {
     "name": "stdout",
     "output_type": "stream",
     "text": [
      "List of frst 10 natural numbers: [1, 2, 3, 4, 5, 6, 7, 8, 9, 10]\n"
     ]
    }
   ],
   "source": [
    "natural_numbers = [i for i in range(1, 11)]\n",
    "print(\"List of frst 10 natural numbers:\", natural_numbers)"
   ]
  },
  {
   "cell_type": "markdown",
   "id": "20f6f701",
   "metadata": {},
   "source": [
    "2) Find a maximum & minimum number in list "
   ]
  },
  {
   "cell_type": "code",
   "execution_count": 12,
   "id": "2e284079",
   "metadata": {},
   "outputs": [
    {
     "name": "stdout",
     "output_type": "stream",
     "text": [
      "Maximum number : 9\n",
      "Minimum number : 5\n"
     ]
    }
   ],
   "source": [
    "list1= [1, 2, 9, 4, 5]\n",
    "max_num = list1[0]\n",
    "min_num = list1[0]\n",
    "\n",
    "for i in list1:\n",
    "  if i > max_num:\n",
    "    max_num = i\n",
    "  else:\n",
    "    min_num = i\n",
    "\n",
    "print(\"Maximum number :\", max_num)\n",
    "print(\"Minimum number :\", min_num)"
   ]
  },
  {
   "cell_type": "markdown",
   "id": "ff47d332",
   "metadata": {},
   "source": [
    "3) WAP to reverse a list manually (without reverse() and slicing())"
   ]
  },
  {
   "cell_type": "code",
   "execution_count": 29,
   "id": "27bff98c",
   "metadata": {},
   "outputs": [
    {
     "name": "stdout",
     "output_type": "stream",
     "text": [
      "[5, 4, 'three', 2, 1]\n"
     ]
    }
   ],
   "source": [
    "li = [ 1, 2, \"three\", 4, 5]\n",
    "\n",
    "reverse_list = []\n",
    "\n",
    "for i in range(1,len(li)+1):\n",
    "  reverse_list.append(li[-i])\n",
    "print(reverse_list)\n"
   ]
  },
  {
   "cell_type": "markdown",
   "id": "b7efe6ea",
   "metadata": {},
   "source": [
    "4) Count how many times the number 3 appears in list "
   ]
  },
  {
   "cell_type": "code",
   "execution_count": null,
   "id": "aa581106",
   "metadata": {},
   "outputs": [
    {
     "name": "stdout",
     "output_type": "stream",
     "text": [
      "In given list 3 are appearse in 4 times.\n"
     ]
    }
   ],
   "source": [
    "li = [1,3,5,3,3,7,3,9]\n",
    "\n",
    "count = 0 \n",
    "\n",
    "for i in li:\n",
    "  if i == 3:\n",
    "    count += 1\n",
    "print(\"In given list 3 are appearse\",count, \"times.\")"
   ]
  },
  {
   "cell_type": "code",
   "execution_count": null,
   "id": "250cfc0d",
   "metadata": {},
   "outputs": [],
   "source": []
  }
 ],
 "metadata": {
  "kernelspec": {
   "display_name": "Python 3",
   "language": "python",
   "name": "python3"
  },
  "language_info": {
   "codemirror_mode": {
    "name": "ipython",
    "version": 3
   },
   "file_extension": ".py",
   "mimetype": "text/x-python",
   "name": "python",
   "nbconvert_exporter": "python",
   "pygments_lexer": "ipython3",
   "version": "3.13.4"
  }
 },
 "nbformat": 4,
 "nbformat_minor": 5
}
