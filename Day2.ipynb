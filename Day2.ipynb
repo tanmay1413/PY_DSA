{
 "cells": [
  {
   "cell_type": "markdown",
   "id": "ce7a8202",
   "metadata": {},
   "source": [
    "## Loops + if/else"
   ]
  },
  {
   "cell_type": "markdown",
   "id": "6741caf0",
   "metadata": {},
   "source": []
  },
  {
   "cell_type": "markdown",
   "id": "e63c5ad5",
   "metadata": {},
   "source": [
    "1) WAP to check given number is even or odd "
   ]
  },
  {
   "cell_type": "code",
   "execution_count": 2,
   "id": "47a53002",
   "metadata": {},
   "outputs": [
    {
     "name": "stdout",
     "output_type": "stream",
     "text": [
      "24 is  a enven number...\n"
     ]
    }
   ],
   "source": [
    "num =  int(input(\"Enter a number :\"))\n",
    "\n",
    "if num % 2 == 0:\n",
    "  print(f\"{num} is  a enven number...\")\n",
    "\n",
    "else:\n",
    "  print(f\"{num} is a odd number...\")"
   ]
  },
  {
   "cell_type": "markdown",
   "id": "88765c77",
   "metadata": {},
   "source": [
    "2) WAP to print Multiples of 3\n",
    " \n",
    "print all number between 1 & 30 that are divisible by 3."
   ]
  },
  {
   "cell_type": "code",
   "execution_count": 5,
   "id": "b9352ad0",
   "metadata": {},
   "outputs": [
    {
     "name": "stdout",
     "output_type": "stream",
     "text": [
      "[3, 6, 9, 12, 15, 18, 21, 24, 27, 30]\n"
     ]
    }
   ],
   "source": [
    "multiple = []\n",
    "for i in range(1, 31):\n",
    "  if i % 3 == 0:\n",
    "    multiple.append(i)\n",
    "\n",
    "print(multiple)"
   ]
  },
  {
   "cell_type": "markdown",
   "id": "903dc5ad",
   "metadata": {},
   "source": [
    "3) Sum of N natural numbers"
   ]
  },
  {
   "cell_type": "code",
   "execution_count": 7,
   "id": "dd83943f",
   "metadata": {},
   "outputs": [
    {
     "name": "stdout",
     "output_type": "stream",
     "text": [
      "The sum of 6 natural numbers : 21\n"
     ]
    }
   ],
   "source": [
    "n = int(input(\"Enter a N number:\"))\n",
    "sum = 0\n",
    "for i in range(1,n+1):\n",
    "  sum += i\n",
    "\n",
    "print(f\"The sum of {n} natural numbers : {sum}\")"
   ]
  },
  {
   "cell_type": "markdown",
   "id": "f3d733f7",
   "metadata": {},
   "source": [
    "4) Factorial using loop"
   ]
  },
  {
   "cell_type": "code",
   "execution_count": 8,
   "id": "598f74d2",
   "metadata": {},
   "outputs": [
    {
     "name": "stdout",
     "output_type": "stream",
     "text": [
      "The factorial of 5 is : 120\n"
     ]
    }
   ],
   "source": [
    "n =  int(input(\"Enter a number:\"))\n",
    "\n",
    "fact = 1\n",
    "\n",
    "for i in range(1 , n+1):\n",
    "  fact *= i\n",
    "\n",
    "print(f\"The factorial of {n} is : {fact}\")"
   ]
  },
  {
   "cell_type": "markdown",
   "id": "40a08075",
   "metadata": {},
   "source": [
    "5) Pattern printing"
   ]
  },
  {
   "cell_type": "code",
   "execution_count": null,
   "id": "5d22d418",
   "metadata": {},
   "outputs": [
    {
     "name": "stdout",
     "output_type": "stream",
     "text": [
      "*\n",
      "**\n",
      "***\n",
      "****\n",
      "*****\n"
     ]
    }
   ],
   "source": [
    "\"\"\"\n",
    "*\n",
    "**\n",
    "***\n",
    "****\n",
    "*****\n",
    "\"\"\"\n",
    "for i in range(1, 6):\n",
    "  print(i*\"*\")\n",
    "  "
   ]
  },
  {
   "cell_type": "code",
   "execution_count": 18,
   "id": "248ad8c7",
   "metadata": {},
   "outputs": [
    {
     "name": "stdout",
     "output_type": "stream",
     "text": [
      "# # # # \n",
      "# # # # \n",
      "# # # # \n",
      "# # # # \n"
     ]
    }
   ],
   "source": [
    "\"\"\"\n",
    "# # # #\n",
    "# # # #\n",
    "# # # #\n",
    "# # # #\n",
    "\"\"\"\n",
    "row = 4 \n",
    "col = 4 \n",
    "\n",
    "for i in range(1, row+1):\n",
    "  print(col * \"# \")"
   ]
  },
  {
   "cell_type": "code",
   "execution_count": 27,
   "id": "5bf56522",
   "metadata": {},
   "outputs": [
    {
     "name": "stdout",
     "output_type": "stream",
     "text": [
      "* * * * * \n",
      "* * * * \n",
      "* * * \n",
      "* * \n",
      "* \n"
     ]
    }
   ],
   "source": [
    "for i in range(5,0,-1):\n",
    "  print(i*\"* \")"
   ]
  },
  {
   "cell_type": "code",
   "execution_count": 33,
   "id": "a4028507",
   "metadata": {},
   "outputs": [
    {
     "name": "stdout",
     "output_type": "stream",
     "text": [
      "1 \n",
      "1 2 \n",
      "1 2 3 \n",
      "1 2 3 4 \n",
      "1 2 3 4 5 \n"
     ]
    }
   ],
   "source": [
    "for i in range(1,6):\n",
    "  for j in range(1,i+1):\n",
    "    print(j , end=\" \")\n",
    "  print()"
   ]
  },
  {
   "cell_type": "code",
   "execution_count": null,
   "id": "f853c0df",
   "metadata": {},
   "outputs": [
    {
     "name": "stdout",
     "output_type": "stream",
     "text": [
      "* * * * \n",
      "* * * \n",
      "* * \n",
      "* \n",
      "\n"
     ]
    }
   ],
   "source": [
    "for i in range(1,6):\n",
    "  print(\"*\" * (5 -i))"
   ]
  },
  {
   "cell_type": "code",
   "execution_count": 45,
   "id": "b4c91adc",
   "metadata": {},
   "outputs": [
    {
     "name": "stdout",
     "output_type": "stream",
     "text": [
      "   *\n",
      "  ***\n",
      " *****\n",
      "*******\n"
     ]
    }
   ],
   "source": [
    "row = 4\n",
    "\n",
    "for i in range(1, row+1):\n",
    "  spaces = \" \" * (row - i)\n",
    "  starts = \"*\" * (2 * i - 1)\n",
    "  print(spaces + starts)"
   ]
  },
  {
   "cell_type": "markdown",
   "id": "0f93dc98",
   "metadata": {},
   "source": [
    "## Array"
   ]
  },
  {
   "cell_type": "markdown",
   "id": "a6315039",
   "metadata": {},
   "source": [
    "Given a list of integers, write a function to find the second largest unique number in the list without using sort() or max().\n",
    "\n"
   ]
  },
  {
   "cell_type": "code",
   "execution_count": null,
   "id": "bd240312",
   "metadata": {},
   "outputs": [
    {
     "name": "stdout",
     "output_type": "stream",
     "text": [
      "-inf\n",
      "8\n",
      "10\n",
      "10\n"
     ]
    }
   ],
   "source": [
    "nums = [10, 5, 20, 8, 20, 5]\n",
    "sorted_list = set(nums)\n",
    "\n",
    "first = second = float(\"-inf\")\n",
    "for i in sorted_list:\n",
    "  if i > first:\n",
    "    second = first\n",
    "    first = i\n",
    "  elif i > second:\n",
    "    second = i\n",
    "\n",
    "print(second)"
   ]
  },
  {
   "cell_type": "markdown",
   "id": "232b1c0b",
   "metadata": {},
   "source": []
  }
 ],
 "metadata": {
  "kernelspec": {
   "display_name": "Python 3",
   "language": "python",
   "name": "python3"
  },
  "language_info": {
   "codemirror_mode": {
    "name": "ipython",
    "version": 3
   },
   "file_extension": ".py",
   "mimetype": "text/x-python",
   "name": "python",
   "nbconvert_exporter": "python",
   "pygments_lexer": "ipython3",
   "version": "3.13.4"
  }
 },
 "nbformat": 4,
 "nbformat_minor": 5
}
